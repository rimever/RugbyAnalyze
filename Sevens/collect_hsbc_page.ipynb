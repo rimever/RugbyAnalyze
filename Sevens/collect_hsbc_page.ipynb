{
 "cells": [
  {
   "cell_type": "code",
   "execution_count": 35,
   "metadata": {},
   "outputs": [],
   "source": [
    "#https://www.world.rugby/sevens-series/stage/1786/fixtures\n",
    "# \n",
    "from bs4 import BeautifulSoup\n",
    "from selenium import webdriver\n",
    "from selenium.webdriver.chrome.options import Options\n",
    "from pyquery import PyQuery as pq\n",
    "\n",
    "\n",
    "\n",
    "# ブラウザのオプションを格納する変数をもらってきます。\n",
    "options = Options()\n",
    "\n",
    "# Headlessモードを有効にする（コメントアウトするとブラウザが実際に立ち上がります）\n",
    "#options.set_headless(True)\n",
    "\n",
    "# ブラウザを起動する\n",
    "driver = webdriver.Chrome(options=options)\n",
    "\n",
    "\n",
    "\n",
    "lines = []\n",
    "\n",
    "pages = [1786,1787,1788,1789,1790,1791,1853,1792,1793,1795,1794]\n",
    "\n",
    "for page_index in pages:\n",
    "    url = \"https://www.world.rugby/sevens-series/stage/\" + str(page_index) + \"/fixtures\"\n",
    "\n",
    "    # ブラウザでアクセスする\n",
    "    driver.get(url)\n",
    "\n",
    "    # HTMLを文字コードをUTF-8に変換してから取得します。\n",
    "    html = driver.page_source.encode('utf-8')\n",
    "    dom =  pq(html, parser='html')\n",
    "    for match_node in dom.find(\"div.match\"):\n",
    "        cells = []\n",
    "        for team in pq(match_node).find(\"div.teamName.left\"):\n",
    "            cells.append(pq(team).text())\n",
    "            \n",
    "        for result in pq(match_node).find(\"div.result.left\"):\n",
    "            cells.append(pq(result).text())\n",
    "           \n",
    "        line =','.join(cells)\n",
    "        lines.append(line)\n",
    "\n",
    "path = \"match_data.csv\"\n",
    "\n",
    "with open(path, mode='w') as f:\n",
    "    f.write('\\n'.join(lines))\n",
    "\n",
    "# ブラウザを終了する。\n",
    "driver.close()\n"
   ]
  },
  {
   "cell_type": "code",
   "execution_count": null,
   "metadata": {},
   "outputs": [],
   "source": []
  }
 ],
 "metadata": {
  "kernelspec": {
   "display_name": "Python 3",
   "language": "python",
   "name": "python3"
  },
  "language_info": {
   "codemirror_mode": {
    "name": "ipython",
    "version": 3
   },
   "file_extension": ".py",
   "mimetype": "text/x-python",
   "name": "python",
   "nbconvert_exporter": "python",
   "pygments_lexer": "ipython3",
   "version": "3.6.5"
  }
 },
 "nbformat": 4,
 "nbformat_minor": 2
}
