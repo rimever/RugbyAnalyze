{
 "cells": [
  {
   "cell_type": "code",
   "execution_count": 1,
   "metadata": {},
   "outputs": [
    {
     "name": "stdout",
     "output_type": "stream",
     "text": [
      "/argentina/rugby/player/caps.html?team=10\n",
      "/australia/rugby/player/caps.html?team=6\n",
      "/other/rugby/player/caps.html?team=25\n",
      "/england/rugby/player/caps.html?team=1\n",
      "/france/rugby/player/caps.html?team=9\n",
      "/ireland/rugby/player/caps.html?team=3\n",
      "/italy/rugby/player/caps.html?team=20\n",
      "/other/rugby/player/caps.html?team=23\n",
      "/newzealand/rugby/player/caps.html?team=8\n",
      "/scotland/rugby/player/caps.html?team=2\n",
      "/southafrica/rugby/player/caps.html?team=5\n",
      "/wales/rugby/player/caps.html?team=4\n",
      "/other/rugby/player/caps.html?team=14\n",
      "/other/rugby/player/caps.html?team=81\n",
      "/other/rugby/player/caps.html?team=82\n",
      "/other/rugby/player/caps.html?team=27\n",
      "/other/rugby/player/caps.html?team=12\n",
      "/other/rugby/player/caps.html?team=15\n",
      "/other/rugby/player/caps.html?team=16\n",
      "/other/rugby/player/caps.html?team=11\n",
      "/lionstour/rugby/player/caps.html?team=32\n",
      "/other/rugby/player/caps.html?team=121\n"
     ]
    }
   ],
   "source": [
    "import urllib.request\n",
    "import bs4\n",
    "# ESPNのニュージーランドの選手一覧ページにアクセスします。\n",
    "url = 'http://en.espn.co.uk/scrum/rugby/player/index.html'\n",
    "html = urllib.request.urlopen(url)\n",
    "soup = bs4.BeautifulSoup(html, \"html.parser\")\n",
    "\n",
    "tags = soup.find_all(\"a\")\n",
    "\n",
    "links = []\n",
    "\n",
    "for tag in tags:\n",
    "    href = tag.get(\"href\")\n",
    "    if href.find('/rugby/player/caps.html') > -1:\n",
    "        links.append(href)\n",
    "        print(href)\n",
    "\n",
    "path = \"world_player_page_link.txt\"\n",
    "\n",
    "with open(path, mode='w') as f:\n",
    "    f.write('\\n'.join(links))\n"
   ]
  },
  {
   "cell_type": "code",
   "execution_count": 2,
   "metadata": {},
   "outputs": [],
   "source": [
    "# 手っ取り早く集めたいので、\n",
    "# aタグを集める\n",
    "# hrefの値が選手のリンクか判定して取得\n",
    "# 配列に格納\n",
    "# 配列を改行コードでjoinして保存\n",
    "\n",
    "\n",
    "path = \"players_world_link.txt\"\n",
    "\n",
    "player_links = []\n",
    "\n",
    "for link in links:\n",
    "    url = 'http://en.espn.co.uk' + link\n",
    "    html = urllib.request.urlopen(url)\n",
    "    soup = bs4.BeautifulSoup(html, \"html.parser\")\n",
    "\n",
    "    tags = soup.find_all(\"a\")\n",
    "\n",
    "    for tag in tags:\n",
    "        href = tag.get(\"href\")\n",
    "        if href.find('/scrum/') > -1:\n",
    "            continue\n",
    "        \n",
    "        if href.find('/rugby/player/') > -1:\n",
    "            player_links.append(href)\n",
    "            \n",
    "with open(path, mode='w') as f:\n",
    "    f.write('\\n'.join(player_links))"
   ]
  },
  {
   "cell_type": "code",
   "execution_count": null,
   "metadata": {
    "collapsed": true
   },
   "outputs": [],
   "source": []
  }
 ],
 "metadata": {
  "kernelspec": {
   "display_name": "Python 3",
   "language": "python",
   "name": "python3"
  },
  "language_info": {
   "codemirror_mode": {
    "name": "ipython",
    "version": 3
   },
   "file_extension": ".py",
   "mimetype": "text/x-python",
   "name": "python",
   "nbconvert_exporter": "python",
   "pygments_lexer": "ipython3",
   "version": "3.6.5"
  }
 },
 "nbformat": 4,
 "nbformat_minor": 1
}
