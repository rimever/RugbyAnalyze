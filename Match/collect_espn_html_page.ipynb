{
 "cells": [
  {
   "cell_type": "code",
   "execution_count": 1,
   "metadata": {},
   "outputs": [],
   "source": [
    "from pyquery import PyQuery as pq\n",
    "\n",
    "lines = []\n",
    "\n",
    "for page_index in range(1,27):\n",
    "    url = \"http://stats.espnscrum.com/statsguru/rugby/stats/index.html?class=1;page=\" + str(page_index) + \";spanmax1=31+Dec+2018;spanmin1=01+Sep+2016;spanval1=span;template=results;type=team;view=results\"\n",
    "    dom = pq(url)\n",
    "    for tr_node in dom.find(\"table.engineTable > tbody > tr.data1\"):\n",
    "        td_nodes = pq(tr_node)('tr').find('td')\n",
    "        cells = []\n",
    "        for td_index in range(0,11):\n",
    "            cells.append(td_nodes.eq(td_index).text())\n",
    "        lines.append(','.join(cells))\n",
    "\n",
    "path = \"match_data.csv\"\n",
    "\n",
    "with open(path, mode='w') as f:\n",
    "    f.write('\\n'.join(lines))\n",
    "\n"
   ]
  },
  {
   "cell_type": "code",
   "execution_count": null,
   "metadata": {},
   "outputs": [],
   "source": []
  }
 ],
 "metadata": {
  "kernelspec": {
   "display_name": "Python 3",
   "language": "python",
   "name": "python3"
  },
  "language_info": {
   "codemirror_mode": {
    "name": "ipython",
    "version": 3
   },
   "file_extension": ".py",
   "mimetype": "text/x-python",
   "name": "python",
   "nbconvert_exporter": "python",
   "pygments_lexer": "ipython3",
   "version": "3.6.5"
  }
 },
 "nbformat": 4,
 "nbformat_minor": 2
}
