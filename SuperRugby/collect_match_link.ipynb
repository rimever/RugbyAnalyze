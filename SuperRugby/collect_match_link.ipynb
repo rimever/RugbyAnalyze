{
 "cells": [
  {
   "cell_type": "code",
   "execution_count": 9,
   "metadata": {},
   "outputs": [],
   "source": [
    "# https://www.foxsports.com.au/score-centre/rugby/super-rugby/season-2018!122/round-week-1!2\n",
    "import numpy as np\n",
    "\n",
    "week_links = []\n",
    "\n",
    "for i in np.arange(1,20):\n",
    "    link = \"https://www.foxsports.com.au/score-centre/rugby/super-rugby/season-2018!122/round-week-1!\"+ str(i)\n",
    "    week_links.append(link)"
   ]
  },
  {
   "cell_type": "code",
   "execution_count": 28,
   "metadata": {},
   "outputs": [
    {
     "data": {
      "text/plain": [
       "<html><head>\n",
       "<title>Access Denied</title>\n",
       "</head><body>\n",
       "<h1>Access Denied</h1>\n",
       " \n",
       "You don't have permission to access \"http://www.foxsports.com.au/rugby/super-rugby/match-centre/match-recap?\" on this server.<p>\n",
       "Reference #18.69b5f748.1543059315.bfce95b\n",
       "</p></body>\n",
       "</html>"
      ]
     },
     "execution_count": 28,
     "metadata": {},
     "output_type": "execute_result"
    }
   ],
   "source": [
    "#  ターゲットは下記のようなタグ\n",
    "# <a aria-label=\"Click to go to match centre\" href=\"//www.foxsports.com.au/rugby/super-rugby/match-centre/match-recap?matchid=SRU20182201\">Match Centre</a>\n",
    "\n",
    "\n",
    "link = 'https://www.foxsports.com.au/rugby/super-rugby/match-centre/match-recap?matchid=SRU20180201'\n",
    "\n",
    "import requests\n",
    "from bs4 import BeautifulSoup\n",
    "\n",
    "\n",
    "headers = {'User-Agent':'Mozilla/5.0'}\n",
    "page = requests.get(link)\n",
    "soup = BeautifulSoup(page.text, \"html.parser\")\n",
    "\n",
    "soup"
   ]
  },
  {
   "cell_type": "code",
   "execution_count": null,
   "metadata": {},
   "outputs": [],
   "source": []
  }
 ],
 "metadata": {
  "kernelspec": {
   "display_name": "Python 3",
   "language": "python",
   "name": "python3"
  },
  "language_info": {
   "codemirror_mode": {
    "name": "ipython",
    "version": 3
   },
   "file_extension": ".py",
   "mimetype": "text/x-python",
   "name": "python",
   "nbconvert_exporter": "python",
   "pygments_lexer": "ipython3",
   "version": "3.6.5"
  }
 },
 "nbformat": 4,
 "nbformat_minor": 2
}
